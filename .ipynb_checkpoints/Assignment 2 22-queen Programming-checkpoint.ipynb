{
 "cells": [
  {
   "cell_type": "markdown",
   "metadata": {},
   "source": [
    "## Assignment 2, 22-Queen Programming"
   ]
  },
  {
   "cell_type": "markdown",
   "metadata": {},
   "source": [
    "Your homework must be implemented in this Notebook file. \n",
    "You can add as many cells as you want. However, you are not allowed to touch the code below the line \"=============\".\n"
   ]
  },
  {
   "cell_type": "code",
   "execution_count": 1,
   "metadata": {},
   "outputs": [],
   "source": [
    "#u=fundamental solutions, D=all solution, n=size\n",
    "#===================================================================================\n",
    "#n\t1\t2\t3\t4\t5\t6\t7\t8\t9\t10\t 11\t    12         13\t      14\t..\n",
    "#U\t1\t0\t0\t1\t2\t1\t6\t12\t46\t92\t 341   1,787     9,233     45,752\t..\n",
    "#D\t1\t0\t0\t2\t10\t4\t40\t92\t352\t724\t2,680\t14,200\t73,712\t  365,596\t..\n",
    "import copy\n",
    "n=22\n",
    "result=list()\n"
   ]
  },
  {
   "cell_type": "code",
   "execution_count": 2,
   "metadata": {},
   "outputs": [],
   "source": [
    "def result_collect(board):\n",
    "    global result\n",
    "    result.append(copy.deepcopy(board))\n",
    "    #print(result)\n",
    "    if len(result)%1000==0:\n",
    "        print(\"the number of solution:\",len(result))\n",
    "    "
   ]
  },
  {
   "cell_type": "code",
   "execution_count": 3,
   "metadata": {},
   "outputs": [],
   "source": [
    "def isSafe(board,row,column):\n",
    "    #row 列\n",
    "    #ckeck horizontal\n",
    "    queens = list()\n",
    "    for r in range(len(board)):\n",
    "        for c in range(len(board)):\n",
    "            if board[r][c] == 1:\n",
    "                queen = (r,c)\n",
    "                queens.append(queen)\n",
    "    for queen in queens:\n",
    "        qr, qc = queen\n",
    "        \n",
    "        if row == qr or column == qc:\n",
    "            return False\n",
    "        #check diagonals\n",
    "        if (row + column) == (qr+qc) or (column-row) == (qc-qr):\n",
    "            return False\n",
    "    return True"
   ]
  },
  {
   "cell_type": "code",
   "execution_count": 4,
   "metadata": {},
   "outputs": [],
   "source": [
    "def print_s(board):\n",
    "    for r in range(len(board)):\n",
    "        for c in range(len(board)):\n",
    "            print(board[c][r],end=\"\")\n",
    "        print()\n",
    "    print(\"square\")"
   ]
  },
  {
   "cell_type": "code",
   "execution_count": 5,
   "metadata": {},
   "outputs": [],
   "source": [
    "def nQueen(board, col):\n",
    "    if col >= n:\n",
    "        return\n",
    "    \n",
    "    for i in range(n):\n",
    "        \n",
    "        if isSafe(board, i, col):\n",
    "            board[i][col] = 1\n",
    "            #print(\"deep\",col)\n",
    "            #print_s(board)\n",
    "            if col == n-1:\n",
    "                result_collect(board)\n",
    "                board[i][col] = 0\n",
    "                return\n",
    "            nQueen(board, col+1)\n",
    "            #backtrack\n",
    "            board[i][col] = 0\n",
    "            #control the number of reuslt\n",
    "            if len(result)==4:\n",
    "                #pass\n",
    "                break\n",
    "\n",
    "                "
   ]
  },
  {
   "cell_type": "code",
   "execution_count": 6,
   "metadata": {},
   "outputs": [],
   "source": [
    "def main():\n",
    "    #create board\n",
    "    board=list()\n",
    "    board = [0]*n\n",
    "    for i in range(n):\n",
    "        board[i] = [0]*n\n",
    "    \n",
    "    nQueen(board,0)\n",
    "    \n"
   ]
  },
  {
   "cell_type": "code",
   "execution_count": 7,
   "metadata": {},
   "outputs": [],
   "source": [
    "def print_result(result):\n",
    "    print(\"total solution:\",len(result))\n",
    "    for i in range(4):\n",
    "        answer=list()\n",
    "        new=result[i]\n",
    "        for r in range(len(new)):\n",
    "            for c in range(len(new)):\n",
    "                if new[r][c] == 1:\n",
    "                    a=(r,c)\n",
    "                    answer.append(a)\n",
    "        print(answer)\n",
    "    "
   ]
  },
  {
   "cell_type": "code",
   "execution_count": 8,
   "metadata": {},
   "outputs": [],
   "source": [
    "main()"
   ]
  },
  {
   "cell_type": "markdown",
   "metadata": {},
   "source": [
    "You can insert as many cells as you want above\n",
    "You are not Allowed to modify the code below this line.\n",
    "==============================="
   ]
  },
  {
   "cell_type": "code",
   "execution_count": 9,
   "metadata": {},
   "outputs": [
    {
     "name": "stdout",
     "output_type": "stream",
     "text": [
      "total solution: 4\n",
      "[(0, 0), (1, 3), (2, 1), (3, 4), (4, 2), (5, 17), (6, 19), (7, 13), (8, 16), (9, 5), (10, 20), (11, 15), (12, 9), (13, 6), (14, 21), (15, 18), (16, 7), (17, 12), (18, 10), (19, 8), (20, 14), (21, 11)]\n",
      "[(0, 0), (1, 3), (2, 1), (3, 4), (4, 2), (5, 15), (6, 18), (7, 14), (8, 21), (9, 5), (10, 13), (11, 17), (12, 20), (13, 6), (14, 8), (15, 19), (16, 11), (17, 9), (18, 7), (19, 16), (20, 10), (21, 12)]\n",
      "[(0, 0), (1, 3), (2, 1), (3, 4), (4, 2), (5, 17), (6, 15), (7, 13), (8, 18), (9, 5), (10, 21), (11, 19), (12, 16), (13, 6), (14, 9), (15, 12), (16, 8), (17, 20), (18, 7), (19, 10), (20, 14), (21, 11)]\n",
      "[(0, 0), (1, 3), (2, 1), (3, 4), (4, 2), (5, 18), (6, 13), (7, 15), (8, 20), (9, 5), (10, 16), (11, 21), (12, 9), (13, 17), (14, 6), (15, 10), (16, 19), (17, 7), (18, 11), (19, 8), (20, 14), (21, 12)]\n"
     ]
    }
   ],
   "source": [
    "#you need to implement print_result function to print out the result according to the required format\n",
    "print_result(result)"
   ]
  },
  {
   "cell_type": "markdown",
   "metadata": {},
   "source": [
    "\n",
    "The output format should be as follows. You only need to give 4 solutions in the following format.\n",
    "Example Output for 4-queens Problem. Each pair of values represents the position of a queen (row, column)\n",
    "(0,1) (1,3) (2,0) (3,2)\n",
    "(0,2) (1,0) (2,3) (3,1)\n",
    "\n",
    "\n"
   ]
  }
 ],
 "metadata": {
  "anaconda-cloud": {},
  "kernelspec": {
   "display_name": "Python 3",
   "language": "python",
   "name": "python3"
  },
  "language_info": {
   "codemirror_mode": {
    "name": "ipython",
    "version": 3
   },
   "file_extension": ".py",
   "mimetype": "text/x-python",
   "name": "python",
   "nbconvert_exporter": "python",
   "pygments_lexer": "ipython3",
   "version": "3.6.3"
  }
 },
 "nbformat": 4,
 "nbformat_minor": 1
}
