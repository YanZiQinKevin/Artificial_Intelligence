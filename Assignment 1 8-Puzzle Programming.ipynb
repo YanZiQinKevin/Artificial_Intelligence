{
 "cells": [
  {
   "cell_type": "markdown",
   "metadata": {},
   "source": [
    "# Assignment 1, 8-Puzzle Programming"
   ]
  },
  {
   "cell_type": "markdown",
   "metadata": {},
   "source": [
    "Your homework must be implemented in this Notebook file. \n",
    "You can add as many cells as you want. However, you are not allowed to touch the code below the line \"=============\".\n",
    "You need to implement the three (four for grads) searching functions and the print result functions.\n",
    "For the searching functions, feel free to customize the return data types and parameter lists as long as the function name is as required.\n"
   ]
  },
  {
   "cell_type": "code",
   "execution_count": null,
   "metadata": {
    "scrolled": false
   },
   "outputs": [],
   "source": [
    "#implementation of function \"Iterative_deepening_DFS\"\n",
    "from numpy import *\n",
    "import numpy as np\n",
    "import queue \n",
    "import gc\n",
    "import time\n",
    "\n",
    "GOAL_STATE = [0, 1, 2, 3, 4, 5, 6, 7, 8]\n",
    "parent=0\n",
    "\n",
    "def swap(state,index1,index2):\n",
    "    temp=state[index1]\n",
    "    state[index1]=state[index2]\n",
    "    state[index2]=temp\n",
    "    return state\n",
    "\n",
    "def move_state(state,move):\n",
    "    next_state=list(state)\n",
    "    index=state.index(0)\n",
    "   \n",
    "    if move =='R':\n",
    "        if index % 3 == 2:\n",
    "            return None\n",
    "        next_state = swap(next_state,index,index+1)\n",
    "    elif move=='L':\n",
    "        if index%3 ==0:\n",
    "            return None\n",
    "        next_state=swap(next_state,index,index-1)\n",
    "    elif move == 'U':\n",
    "        if index<3:\n",
    "            return None\n",
    "        next_state=swap(next_state,index,index-3)\n",
    "    elif move == 'D':\n",
    "        if index > 5:\n",
    "            return None\n",
    "        next_state=swap(next_state,index,index + 3)\n",
    "    else:\n",
    "        return None\n",
    "    return next_state\n",
    "\n",
    "def move(state):\n",
    "    next_state=[]\n",
    "    global parent\n",
    "    ty_state = move_state(state,'R')\n",
    "    if ty_state is not None:\n",
    "        next_state.append(ty_state)\n",
    "        \n",
    "    ty_state =move_state(state,'L')\n",
    "    if ty_state is not None:\n",
    "        next_state.append(ty_state)\n",
    "        \n",
    "    ty_state =move_state(state,'U')\n",
    "    if ty_state is not None:\n",
    "        next_state.append(ty_state)\n",
    "        \n",
    "    ty_state =move_state(state,'D')\n",
    "    if ty_state is not None:\n",
    "        next_state.append(ty_state)\n",
    "\n",
    "    \n",
    "    \n",
    "    #print(\"ceng\",next_state)\n",
    "    return next_state \n",
    "    \n",
    "        \n",
    "            \n",
    "def search(list_input):\n",
    "    puzzle=list()\n",
    "    puzzle_cp=set()\n",
    "    puzzle_cp.add(tuple(list_input))\n",
    "    \n",
    "    puzzle.append(list_input)\n",
    "    explored = set()\n",
    "    \n",
    "    \n",
    "    #puzzle_cp.add(list_input)\n",
    "    t=0\n",
    "    while puzzle:\n",
    "        #print(\"puzzle:\", puzzle)\n",
    "        c_state = puzzle.pop()\n",
    "        \n",
    "        puzzle_cp.remove(tuple(c_state))\n",
    "        explored.add(tuple(c_state))\n",
    "        if c_state == GOAL_STATE:\n",
    "            print(\"step\",len(explored))\n",
    "            #free memory\n",
    "            del puzzle\n",
    "            del explored\n",
    "            del puzzle_cp\n",
    "            return c_state\n",
    "        # reversed because avoid BUG\n",
    "        #some reason:http://www.cnblogs.com/bananaplan/p/remove-listitem-while-iterating.html\n",
    "        for move_state in reversed(move(c_state)):\n",
    "            \n",
    "            if  tuple(move_state) not in explored and tuple(move_state) not in puzzle_cp :\n",
    "                #print(move_state)\n",
    "              \n",
    "                puzzle.append(move_state)\n",
    "                puzzle_cp.add(tuple(move_state))\n",
    "                \n",
    "        \n",
    "    return None\n",
    "              \n",
    "with open('Input8PuzzleCases.txt') as f:\n",
    "    listRow = f.readlines();\n",
    "    \n",
    "    for i in range(100):  \n",
    "        start_time=time.clock()\n",
    "        #string to list\n",
    "        list_input = listRow[i].split(\",\")\n",
    "        list_input = [int(x) for x in list_input]\n",
    "        print(\"print list:\",list_input)\n",
    "        \n",
    "        #state=search([4, 3, 1, 0, 2, 6, 7, 5, 8])\n",
    "        state=search(list_input)\n",
    "        while state is None:\n",
    "            gc.collect()\n",
    "            print(\"false\")\n",
    "            reversed(list_input)\n",
    "            break\n",
    "            #state=search(list_input)\n",
    "\n",
    "                \n",
    "        \n",
    "        print(\"print list successful:\",i,\":\",state)\n",
    "        print(\"time:\",time.clock()-start_time )\n",
    "        print(\"================================================\")\n",
    "        gc.collect()\n",
    "        #listinput = np.matrix(listRow[i])\n",
    "        #a= listinput.reshape((3,3));\n",
    "        #\n",
    "        #print(a)\n",
    "         "
   ]
  },
  {
   "cell_type": "code",
   "execution_count": null,
   "metadata": {},
   "outputs": [],
   "source": [
    "#implementation of function \"aStarMisplacedTiles\"\n"
   ]
  },
  {
   "cell_type": "code",
   "execution_count": null,
   "metadata": {},
   "outputs": [],
   "source": [
    "#implementation of function \"aStarManhattanDistance\"\n"
   ]
  },
  {
   "cell_type": "code",
   "execution_count": null,
   "metadata": {},
   "outputs": [],
   "source": [
    "#implementation of function \"breadthFirstSearch\" (for graduate students)\n"
   ]
  },
  {
   "cell_type": "code",
   "execution_count": null,
   "metadata": {},
   "outputs": [],
   "source": [
    "#implementation of function \"print_result(result)\""
   ]
  },
  {
   "cell_type": "code",
   "execution_count": null,
   "metadata": {},
   "outputs": [],
   "source": []
  },
  {
   "cell_type": "code",
   "execution_count": null,
   "metadata": {},
   "outputs": [],
   "source": []
  },
  {
   "cell_type": "code",
   "execution_count": null,
   "metadata": {},
   "outputs": [],
   "source": []
  },
  {
   "cell_type": "markdown",
   "metadata": {},
   "source": [
    "You can insert as many cells as you want above\n",
    "You are not Allowed to modify the code below this line.\n",
    "==============================="
   ]
  },
  {
   "cell_type": "code",
   "execution_count": null,
   "metadata": {},
   "outputs": [],
   "source": [
    "#you need to implement print_result function to print out the result according to the required format\n",
    "print_result(result)"
   ]
  },
  {
   "cell_type": "markdown",
   "metadata": {},
   "source": [
    "\n",
    "The output format should be as follows. You only need to give one sample solution as an example.\n",
    "+++++++++++++++++++++++++++++++++++++++++++++++++++++++++++++++++++++++++++++++++++++\n",
    "Solution of the first Scenario:\n",
    "X X X\n",
    "X X X\n",
    "X X X\n",
    "to\n",
    "X X X\n",
    "X X X\n",
    "X X X\n",
    "to\n",
    "X X X\n",
    "X X X\n",
    "X X X\n",
    "to\n",
    "X X X\n",
    "X X X\n",
    "X X X\n",
    "to\n",
    ".\n",
    ".\n",
    ".\n",
    "0 1 2\n",
    "3 4 5\n",
    "6 7 8\n",
    "\n",
    "                Average_Steps    Average_Time   Average_Iterations   \n",
    "UCS\n",
    "A*(Misplaced)\n",
    "A*(Manhattan)\n",
    "BFS\n",
    "\n"
   ]
  }
 ],
 "metadata": {
  "anaconda-cloud": {},
  "kernelspec": {
   "display_name": "Python 3",
   "language": "python",
   "name": "python3"
  },
  "language_info": {
   "codemirror_mode": {
    "name": "ipython",
    "version": 3
   },
   "file_extension": ".py",
   "mimetype": "text/x-python",
   "name": "python",
   "nbconvert_exporter": "python",
   "pygments_lexer": "ipython3",
   "version": "3.6.3"
  }
 },
 "nbformat": 4,
 "nbformat_minor": 1
}
